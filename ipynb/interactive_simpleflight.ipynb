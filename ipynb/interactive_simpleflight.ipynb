{
 "cells": [
  {
   "cell_type": "markdown",
   "metadata": {},
   "source": [
    "# Simple Flight Model"
   ]
  },
  {
   "cell_type": "code",
   "execution_count": null,
   "metadata": {
    "collapsed": false
   },
   "outputs": [],
   "source": [
    "import numpy as np\n",
    "from gpkit import Variable, Model"
   ]
  },
  {
   "cell_type": "markdown",
   "metadata": {},
   "source": [
    "### Constants"
   ]
  },
  {
   "cell_type": "code",
   "execution_count": null,
   "metadata": {
    "collapsed": true
   },
   "outputs": [],
   "source": [
    "k = Variable(\"k\", 1.2, \"-\", \"form factor\")\n",
    "e = Variable(\"e\", 0.95, \"-\", \"Oswald efficiency factor\")\n",
    "mu = Variable(\"\\\\mu\", 1.78e-5, \"kg/m/s\", \"viscosity of air\")\n",
    "rho = Variable(\"\\\\rho\", 1.23, \"kg/m^3\", \"density of air\")\n",
    "tau = Variable(\"\\\\tau\", 0.12, \"-\", \"airfoil thickness to chord ratio\")\n",
    "N_ult = Variable(\"N_{ult}\", 3.8, \"-\", \"ultimate load factor\")\n",
    "V_min = Variable(\"V_{min}\", 22, \"m/s\", \"takeoff speed\")\n",
    "C_Lmax = Variable(\"C_{L,max}\", 1.5, \"-\", \"max CL with flaps down\")\n",
    "S_wetratio = Variable(\"(\\\\frac{S}{S_{wet}})\", 2.05, \"-\", \"wetted area ratio\")\n",
    "c_ww_strc = Variable(\"c_{ww-strc}\", 8.71e-5, \"1/m\", \"Wing Structural Weight Coefficent\")\n",
    "c_ww_surf = Variable(\"c_{ww-surf}\", 45.24, \"Pa\", \"Wing Skin Weight Coefficent\")\n",
    "CDA0 = Variable(\"(CDA0)\", 0.031, \"m^2\", \"fuselage drag area\")\n",
    "W_0 = Variable(\"W_0\", 4940.0, \"N\", \"aircraft weight excluding wing\")"
   ]
  },
  {
   "cell_type": "markdown",
   "metadata": {},
   "source": [
    "### Design Variables"
   ]
  },
  {
   "cell_type": "code",
   "execution_count": null,
   "metadata": {
    "collapsed": true
   },
   "outputs": [],
   "source": [
    "D = Variable(\"D\", \"N\", \"total drag force\")\n",
    "A = Variable(\"A\", \"-\", \"aspect ratio\")\n",
    "S = Variable(\"S\", \"m^2\", \"total wing area\")\n",
    "V = Variable(\"V\", \"m/s\", \"cruising speed\")\n",
    "W = Variable(\"W\", \"N\", \"total aircraft weight\")\n",
    "Re = Variable(\"Re\", \"-\", \"Reynold's number\")\n",
    "C_D = Variable(\"C_D\", \"-\", \"Drag coefficient of wing\")\n",
    "C_L = Variable(\"C_L\", \"-\", \"Lift coefficent of wing\")\n",
    "C_f = Variable(\"C_f\", \"-\", \"skin friction coefficient\")\n",
    "W_w = Variable(\"W_w\", \"N\", \"wing weight\")"
   ]
  },
  {
   "cell_type": "markdown",
   "metadata": {},
   "source": [
    "### Constraints"
   ]
  },
  {
   "cell_type": "code",
   "execution_count": null,
   "metadata": {
    "collapsed": true
   },
   "outputs": [],
   "source": [
    "constraints = [C_D >= CDA0/S + k*C_f*S_wetratio + C_L**2/(np.pi*A*e),  # Drag model\n",
    "               W_w >= c_ww_strc*(N_ult*A**1.5*(W_0*W*S)**0.5)/tau + c_ww_surf * S,  # Wing weight model\n",
    "               D >= 0.5*rho*S*C_D*V**2,\n",
    "               Re <= (rho/mu)*V*(S/A)**0.5,\n",
    "               C_f >= 0.074/Re**0.2,\n",
    "               W <= 0.5*rho*S*C_L*V**2,\n",
    "               W <= 0.5*rho*S*C_Lmax*V_min**2,\n",
    "               W >= W_0 + W_w]"
   ]
  },
  {
   "cell_type": "markdown",
   "metadata": {},
   "source": [
    "### Setup and solving"
   ]
  },
  {
   "cell_type": "code",
   "execution_count": null,
   "metadata": {
    "collapsed": false
   },
   "outputs": [],
   "source": [
    "m = Model(D, constraints)\n",
    "sol = m.solve()"
   ]
  },
  {
   "cell_type": "code",
   "execution_count": null,
   "metadata": {
    "collapsed": false
   },
   "outputs": [],
   "source": [
    "from gpkit.interactive.chartjs import BarChart\n",
    "bc = BarChart([\"W\", \"W_0\", \"W_w\"])\n",
    "\n",
    "def plot(sol):\n",
    "    bc.update(sol)\n",
    "    print sol.table([\"cost\", \"sensitivities\"])"
   ]
  },
  {
   "cell_type": "code",
   "execution_count": null,
   "metadata": {
    "collapsed": false
   },
   "outputs": [],
   "source": [
    "m.controlpanel(fn_of_sol=plot)"
   ]
  }
 ],
 "metadata": {
  "kernelspec": {
   "display_name": "Python 2",
   "language": "python",
   "name": "python2"
  },
  "language_info": {
   "codemirror_mode": {
    "name": "ipython",
    "version": 2
   },
   "file_extension": ".py",
   "mimetype": "text/x-python",
   "name": "python",
   "nbconvert_exporter": "python",
   "pygments_lexer": "ipython2",
   "version": "2.7.10"
  }
 },
 "nbformat": 4,
 "nbformat_minor": 0
}
