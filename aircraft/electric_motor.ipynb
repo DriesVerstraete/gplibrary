{
 "cells": [
  {
   "cell_type": "code",
   "execution_count": 2,
   "metadata": {
    "collapsed": false
   },
   "outputs": [],
   "source": [
    "from gpkit.shortcuts import Var, Model\n",
    "from gpkit import units\n",
    "import numpy as np"
   ]
  },
  {
   "cell_type": "code",
   "execution_count": 3,
   "metadata": {
    "collapsed": false
   },
   "outputs": [
    {
     "name": "stdout",
     "output_type": "stream",
     "text": [
      "Using solver 'cvxopt'\n",
      "Solving for 4 variables.\n",
      "Solving took 0.0647 seconds.\n",
      "\n",
      "Cost\n",
      "----\n",
      " 0.173 [1/N] \n",
      "\n",
      "Free Variables\n",
      "--------------\n",
      "Omega : 1196   [rad/s] Shaft rotational speed   \n",
      "    T : 5.781  [N]     Thrust                   \n",
      "    i : 6.983  [A]     Current                  \n",
      "    v : 11.1   [V]     Voltage accross the motor\n",
      "\n",
      "Constants\n",
      "---------\n",
      " C_P : 0.0001            Power Coefficient           \n",
      " C_T : 0.002             Thrust Coefficient          \n",
      " K_v : 115     [rad/V/s] Motor speed constant        \n",
      "   R : 0.18    [m]       Propeller radius            \n",
      " R_m : 0.1     [ohm]     Motor internal resistance   \n",
      "   S : 3                 Number of Lipo-Battery Cells\n",
      "\\rho : 1.225   [kg/m**3] Air Density                 \n",
      " i_0 : 1       [A]       Zero-load current           \n",
      "\n",
      "Sensitivities\n",
      "-------------\n",
      " R_m : 0.1204  Motor internal resistance   \n",
      " C_P : 0.1032  Power Coefficient           \n",
      " i_0 : 0.01724 Zero-load current           \n",
      "\\rho : -0.8968 Air Density                 \n",
      " C_T : -1      Thrust Coefficient          \n",
      " K_v : -1.69   Motor speed constant        \n",
      "   S : -1.914  Number of Lipo-Battery Cells\n",
      "   R : -3.484  Propeller radius            \n",
      "\n"
     ]
    }
   ],
   "source": [
    "class electric_motor(Model):\n",
    "    def setup(self):\n",
    "        \n",
    "        #from electric motor model found here: http://web.mit.edu/drela/Public/web/qprop/motorprop.pdf\n",
    "        \n",
    "        v = Var(\"v\", \"volts\", \"Voltage accross the motor\")\n",
    "        i = Var(\"i\", \"amps\", \"Current\")\n",
    "        i_0 = Var(\"i_0\", 1, \"amps\", \"Zero-load current\")\n",
    "        S = Var(\"S\", 3, \"-\", \"Number of Lipo-Battery Cells\")\n",
    "        Omega = Var(\"Omega\", \"rad/s\", \"Shaft rotational speed\")\n",
    "        K_v = Var(\"K_v\", 115, \"rad/s/volts\", \"Motor speed constant\")\n",
    "        R_m = Var(\"R_m\",0.1, \"ohms\", \"Motor internal resistance\")\n",
    "        C_T = Var(\"C_T\", 0.002, \"-\", \"Thrust Coefficient\")\n",
    "        C_P = Var(\"C_P\", 1e-4, \"-\", \"Power Coefficient\")\n",
    "        T = Var(\"T\", \"N\", \"Thrust\")\n",
    "        R = Var(\"R\", 0.18, \"m\", \"Propeller radius\")\n",
    "        V_tip = Var(\"V_{tip}\", \"m/s\", \"Tip velocity\")\n",
    "        V_tip_max = Var(\"V_{tip_{max}}\", 100, \"m/s\", \"Maximum tip velocity\")\n",
    "        rho = Var(\"\\\\rho\", 1.225, \"kg/m^3\", \"Air Density\")\n",
    "        i_max = Var(\"i_{max}\",4,\"amps\",\"max current\")\n",
    "        \n",
    "        constraints = [v == 3.7*S * units('volt'),\n",
    "                       v >= Omega/K_v + i*R_m,\n",
    "                       0.5*rho*Omega**2*R**4*np.pi*C_T >= T,\n",
    "                       i >= 0.5*rho*Omega**2*R**5*np.pi*C_P*K_v + i_0,\n",
    "                       #add weight as function of K_v, i, and T, \n",
    "                      ]\n",
    "        cost = 1/T\n",
    "        return cost, constraints\n",
    "    \n",
    "    def test(self):\n",
    "        self.solve()\n",
    "\n",
    "m = electric_motor()\n",
    "sol = m.solve()\n",
    "        "
   ]
  },
  {
   "cell_type": "code",
   "execution_count": null,
   "metadata": {
    "collapsed": true
   },
   "outputs": [],
   "source": []
  }
 ],
 "metadata": {
  "kernelspec": {
   "display_name": "Python 2",
   "language": "python",
   "name": "python2"
  },
  "language_info": {
   "codemirror_mode": {
    "name": "ipython",
    "version": 2
   },
   "file_extension": ".py",
   "mimetype": "text/x-python",
   "name": "python",
   "nbconvert_exporter": "python",
   "pygments_lexer": "ipython2",
   "version": "2.7.10"
  }
 },
 "nbformat": 4,
 "nbformat_minor": 0
}
